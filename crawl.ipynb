{
 "cells": [
  {
   "cell_type": "code",
   "execution_count": 8,
   "metadata": {},
   "outputs": [],
   "source": [
    "from selenium import webdriver\n",
    "from webdriver_manager.chrome import ChromeDriverManager\n",
    "from selenium.webdriver.common.keys import Keys\n",
    "def get_driver():\n",
    "    driver = webdriver.Chrome(ChromeDriverManager().install())\n",
    "    return driver"
   ]
  },
  {
   "cell_type": "code",
   "execution_count": 9,
   "metadata": {},
   "outputs": [],
   "source": [
    "import time\n",
    "\n",
    "def get_page_source(driver, url):\n",
    "    driver.get(url)\n",
    "\n",
    "    time.sleep(5)\n",
    "    page_source = driver.page_source\n",
    "    return page_source"
   ]
  },
  {
   "cell_type": "code",
   "execution_count": 10,
   "metadata": {},
   "outputs": [],
   "source": [
    "\n",
    "\n",
    "def parse_datas():\n",
    "    title_list = []\n",
    "    room_type_list = []\n",
    "    location_list = []\n",
    "    price_list = []\n",
    "    titles = driver.find_elements_by_xpath(\"//div[contains(@class,'house-title')]\")\n",
    "    room_types = driver.find_elements_by_xpath(\"//div[contains(@class,'details-item')]\")\n",
    "    locations = driver.find_elements_by_xpath(\"//span[contains(@class,'comm-address')]\")\n",
    "    prices = driver.find_elements_by_xpath(\"//span[contains(@class,'price-det')]\")\n",
    "    for title in titles:\n",
    "        title_list.append(title.text)\n",
    "    for room_type in room_types:\n",
    "        room_type_list.append(room_type.text)\n",
    "    for location in locations:\n",
    "        location_list.append(location.text)\n",
    "    for price in prices:\n",
    "        price_list.append(price.text)\n",
    "    \n",
    "    return title_list,room_type_list,location_list,price_list"
   ]
  },
  {
   "cell_type": "code",
   "execution_count": 11,
   "metadata": {},
   "outputs": [],
   "source": [
    "import csv\n",
    "\n",
    "def save_datas(title_list,room_type_list,location_list,price_list):\n",
    "    out = open('data1.csv', 'a', newline='',encoding=\"utf_8_sig\")\n",
    "    csv_write = csv.writer(out, dialect='excel')\n",
    "    for i in range(len(title_list)):\n",
    "        temp = []\n",
    "        temp.append(title_list[i])\n",
    "        temp.append(room_type_list[int(i*2)])\n",
    "        temp.append(location_list[i])\n",
    "        temp.append(price_list[i])\n",
    "        csv_write.writerow(temp)\n",
    "    out.close()"
   ]
  },
  {
   "cell_type": "code",
   "execution_count": 12,
   "metadata": {},
   "outputs": [
    {
     "name": "stderr",
     "output_type": "stream",
     "text": [
      "[WDM] - Current google-chrome version is 87.0.4280\n",
      "[WDM] - Get LATEST driver version for 87.0.4280\n"
     ]
    },
    {
     "name": "stdout",
     "output_type": "stream",
     "text": [
      " \n"
     ]
    },
    {
     "name": "stderr",
     "output_type": "stream",
     "text": [
      "[WDM] - Driver [C:\\Users\\Admin\\.wdm\\drivers\\chromedriver\\win32\\87.0.4280.88\\chromedriver.exe] found in cache\n"
     ]
    }
   ],
   "source": [
    "url  = 'https://xiangyang.anjuke.com/sale/?pi=baidu-cpc-xiangyang-ty2&kwid=90923907670'\n",
    "\n",
    "search_url = \"https://xiangyang.anjuke.com/sale/p{q}/?pi=baidu-cpc-xiangyang-ty2&kwid=90923907670#filtersort\"\n",
    "driver = get_driver()\n",
    "\n",
    "page_source = get_page_source(driver, url)\n",
    "\n",
    "title_list,room_type_list,location_list,price_list = parse_datas()\n",
    "save_datas(title_list,room_type_list,location_list,price_list)\n",
    "\n",
    "total_page = 50\n",
    "start = 1\n",
    "while start <= total_page:\n",
    "    time.sleep(10)\n",
    "    start = start + 1\n",
    "    page_source = get_page_source(driver, search_url.format(q = start))\n",
    "\n",
    "    title_list,room_type_list,location_list,price_list = parse_datas()\n",
    "    save_datas(title_list,room_type_list,location_list,price_list)\n"
   ]
  }
 ],
 "metadata": {
  "kernelspec": {
   "display_name": "Python 3",
   "language": "python",
   "name": "python3"
  },
  "language_info": {
   "codemirror_mode": {
    "name": "ipython",
    "version": 3
   },
   "file_extension": ".py",
   "mimetype": "text/x-python",
   "name": "python",
   "nbconvert_exporter": "python",
   "pygments_lexer": "ipython3",
   "version": "3.9.0"
  }
 },
 "nbformat": 4,
 "nbformat_minor": 4
}
