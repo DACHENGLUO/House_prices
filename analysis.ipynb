{
 "cells": [
  {
   "cell_type": "code",
   "execution_count": 91,
   "metadata": {},
   "outputs": [],
   "source": [
    "import pandas as pd\n",
    "list = ['title', 'detail','location','price']\n",
    "df = pd.read_csv('data1.csv',names = list)"
   ]
  },
  {
   "cell_type": "code",
   "execution_count": 92,
   "metadata": {
    "scrolled": true
   },
   "outputs": [
    {
     "data": {
      "text/html": [
       "<div>\n",
       "<style scoped>\n",
       "    .dataframe tbody tr th:only-of-type {\n",
       "        vertical-align: middle;\n",
       "    }\n",
       "\n",
       "    .dataframe tbody tr th {\n",
       "        vertical-align: top;\n",
       "    }\n",
       "\n",
       "    .dataframe thead th {\n",
       "        text-align: right;\n",
       "    }\n",
       "</style>\n",
       "<table border=\"1\" class=\"dataframe\">\n",
       "  <thead>\n",
       "    <tr style=\"text-align: right;\">\n",
       "      <th></th>\n",
       "      <th>title</th>\n",
       "      <th>detail</th>\n",
       "      <th>location</th>\n",
       "      <th>price</th>\n",
       "    </tr>\n",
       "  </thead>\n",
       "  <tbody>\n",
       "    <tr>\n",
       "      <th>0</th>\n",
       "      <td>东津世纪城襄阳小四中 中间楼层装修未入住</td>\n",
       "      <td>3室2厅|137m²|低层(共33层)|2016年建造</td>\n",
       "      <td>东津世纪城14区崇文府   襄州-东津世纪城-劲松路</td>\n",
       "      <td>128万</td>\n",
       "    </tr>\n",
       "    <tr>\n",
       "      <th>1</th>\n",
       "      <td>东津大三房带车位正常首付南北通透</td>\n",
       "      <td>3室2厅|123m²|低层(共33层)|2015年建造</td>\n",
       "      <td>东津世纪城14区崇文府   襄州-东津世纪城-劲松路</td>\n",
       "      <td>100万</td>\n",
       "    </tr>\n",
       "    <tr>\n",
       "      <th>2</th>\n",
       "      <td>东津世纪城117平精装三居室</td>\n",
       "      <td>3室2厅|117m²|低层(共33层)|2016年建造</td>\n",
       "      <td>东津世纪城14区崇文府   襄州-东津世纪城-劲松路</td>\n",
       "      <td>105万</td>\n",
       "    </tr>\n",
       "    <tr>\n",
       "      <th>3</th>\n",
       "      <td>东津世纪城117平米三房出售价格便宜</td>\n",
       "      <td>3室2厅|117m²|低层(共33层)|2015年建造</td>\n",
       "      <td>东津世纪城14区崇文府   襄州-东津世纪城-劲松路</td>\n",
       "      <td>96万</td>\n",
       "    </tr>\n",
       "    <tr>\n",
       "      <th>4</th>\n",
       "      <td>东津世纪城14区，交通方便中小学校，大2房家电齐全低价出售</td>\n",
       "      <td>2室2厅|80m²|低层(共32层)|2015年建造</td>\n",
       "      <td>东津世纪城14区崇文府   襄州-东津世纪城-劲松路</td>\n",
       "      <td>69万</td>\n",
       "    </tr>\n",
       "    <tr>\n",
       "      <th>...</th>\n",
       "      <td>...</td>\n",
       "      <td>...</td>\n",
       "      <td>...</td>\n",
       "      <td>...</td>\n",
       "    </tr>\n",
       "    <tr>\n",
       "      <th>3055</th>\n",
       "      <td>东津世纪城 四中对面 三室毛坯单价7100</td>\n",
       "      <td>3室2厅|99m²|低层(共33层)|2016年建造</td>\n",
       "      <td>东津世纪城14区崇文府   襄州-东津世纪城-劲松路</td>\n",
       "      <td>72万</td>\n",
       "    </tr>\n",
       "    <tr>\n",
       "      <th>3056</th>\n",
       "      <td>东津14区 两室精装修 单价8600 送家具家电 正常首付</td>\n",
       "      <td>2室2厅|80m²|低层(共33层)|2012年建造</td>\n",
       "      <td>东津世纪城14区崇文府   襄州-东津世纪城-劲松路</td>\n",
       "      <td>69.5万</td>\n",
       "    </tr>\n",
       "    <tr>\n",
       "      <th>3057</th>\n",
       "      <td>东津世纪城 四中对面 三室毛坯 单价7100 价格很便宜</td>\n",
       "      <td>3室2厅|99m²|低层(共33层)|2016年建造</td>\n",
       "      <td>东津世纪城14区崇文府   襄州-东津世纪城-劲松路</td>\n",
       "      <td>72万</td>\n",
       "    </tr>\n",
       "    <tr>\n",
       "      <th>3058</th>\n",
       "      <td>急售东津世纪城学 区房，学校对面。户型方正。看房有钥匙</td>\n",
       "      <td>3室2厅|122m²|低层(共33层)|2014年建造</td>\n",
       "      <td>东津世纪城14区崇文府   襄州-东津世纪城-劲松路</td>\n",
       "      <td>88万</td>\n",
       "    </tr>\n",
       "    <tr>\n",
       "      <th>3059</th>\n",
       "      <td>东津世纪城 三室毛坯单价7100 房主工作调动便宜出售</td>\n",
       "      <td>3室2厅|99m²|低层(共33层)|2016年建造</td>\n",
       "      <td>东津世纪城14区崇文府   襄州-东津世纪城-劲松路</td>\n",
       "      <td>72万</td>\n",
       "    </tr>\n",
       "  </tbody>\n",
       "</table>\n",
       "<p>3060 rows × 4 columns</p>\n",
       "</div>"
      ],
      "text/plain": [
       "                              title                       detail  \\\n",
       "0              东津世纪城襄阳小四中 中间楼层装修未入住  3室2厅|137m²|低层(共33层)|2016年建造   \n",
       "1                  东津大三房带车位正常首付南北通透  3室2厅|123m²|低层(共33层)|2015年建造   \n",
       "2                    东津世纪城117平精装三居室  3室2厅|117m²|低层(共33层)|2016年建造   \n",
       "3                东津世纪城117平米三房出售价格便宜  3室2厅|117m²|低层(共33层)|2015年建造   \n",
       "4     东津世纪城14区，交通方便中小学校，大2房家电齐全低价出售   2室2厅|80m²|低层(共32层)|2015年建造   \n",
       "...                             ...                          ...   \n",
       "3055          东津世纪城 四中对面 三室毛坯单价7100   3室2厅|99m²|低层(共33层)|2016年建造   \n",
       "3056  东津14区 两室精装修 单价8600 送家具家电 正常首付   2室2厅|80m²|低层(共33层)|2012年建造   \n",
       "3057   东津世纪城 四中对面 三室毛坯 单价7100 价格很便宜   3室2厅|99m²|低层(共33层)|2016年建造   \n",
       "3058    急售东津世纪城学 区房，学校对面。户型方正。看房有钥匙  3室2厅|122m²|低层(共33层)|2014年建造   \n",
       "3059    东津世纪城 三室毛坯单价7100 房主工作调动便宜出售   3室2厅|99m²|低层(共33层)|2016年建造   \n",
       "\n",
       "                        location  price  \n",
       "0     东津世纪城14区崇文府   襄州-东津世纪城-劲松路   128万  \n",
       "1     东津世纪城14区崇文府   襄州-东津世纪城-劲松路   100万  \n",
       "2     东津世纪城14区崇文府   襄州-东津世纪城-劲松路   105万  \n",
       "3     东津世纪城14区崇文府   襄州-东津世纪城-劲松路    96万  \n",
       "4     东津世纪城14区崇文府   襄州-东津世纪城-劲松路    69万  \n",
       "...                          ...    ...  \n",
       "3055  东津世纪城14区崇文府   襄州-东津世纪城-劲松路    72万  \n",
       "3056  东津世纪城14区崇文府   襄州-东津世纪城-劲松路  69.5万  \n",
       "3057  东津世纪城14区崇文府   襄州-东津世纪城-劲松路    72万  \n",
       "3058  东津世纪城14区崇文府   襄州-东津世纪城-劲松路    88万  \n",
       "3059  东津世纪城14区崇文府   襄州-东津世纪城-劲松路    72万  \n",
       "\n",
       "[3060 rows x 4 columns]"
      ]
     },
     "execution_count": 92,
     "metadata": {},
     "output_type": "execute_result"
    }
   ],
   "source": [
    "df"
   ]
  },
  {
   "cell_type": "code",
   "execution_count": 93,
   "metadata": {},
   "outputs": [],
   "source": [
    "import re\n",
    "location_dict = {}\n",
    "\n",
    "\n",
    "for i in range(len(df)):\n",
    "    \n",
    "    location = re.findall(\"\\s(\\w+)\",df.location[i])[0]\n",
    "    if(location in location_dict):\n",
    "        location_dict[location] = location_dict[location] + 1\n",
    "    else:\n",
    "        location_dict[location] = 1"
   ]
  },
  {
   "cell_type": "code",
   "execution_count": 94,
   "metadata": {},
   "outputs": [
    {
     "data": {
      "text/plain": [
       "{'襄州': 1299,\n",
       " '襄城': 564,\n",
       " '樊城': 946,\n",
       " '高新区': 219,\n",
       " '谷城': 9,\n",
       " '枣阳市': 9,\n",
       " '鱼梁洲': 4,\n",
       " '老河口': 9,\n",
       " '宜城': 1}"
      ]
     },
     "execution_count": 94,
     "metadata": {},
     "output_type": "execute_result"
    }
   ],
   "source": [
    "location_dict"
   ]
  },
  {
   "cell_type": "code",
   "execution_count": null,
   "metadata": {},
   "outputs": [],
   "source": []
  },
  {
   "cell_type": "code",
   "execution_count": 95,
   "metadata": {
    "scrolled": false
   },
   "outputs": [
    {
     "data": {
      "image/png": "[encoded data removed]",
      "text/plain": [
       "<Figure size 864x432 with 1 Axes>"
      ]
     },
     "metadata": {
      "needs_background": "light"
     },
     "output_type": "display_data"
    }
   ],
   "source": [
    "import matplotlib.pyplot as plt\n",
    "import matplotlib \n",
    "import numpy as np \n",
    "\n",
    "   \n",
    "\n",
    "\n",
    "plt.rcParams['font.sans-serif']=['Arial Unicode MS']\n",
    "\n",
    "fig = plt.figure(figsize=(12,6))\n",
    "plt.bar(range(len(location_dict)), (location_dict.values()))\n",
    "plt.xticks(range(len(location_dict)), (location_dict.keys()))\n",
    "# # for python 2.x:\n",
    "# plt.bar(range(len(D)), D.values(), align='center')  # python 2.x\n",
    "# plt.xticks(range(len(D)), D.keys())  # in python 2.x\n",
    "\n",
    "plt.show()\n",
    "#fig.savefig('location.png')"
   ]
  },
  {
   "cell_type": "code",
   "execution_count": null,
   "metadata": {},
   "outputs": [],
   "source": []
  },
  {
   "cell_type": "code",
   "execution_count": 96,
   "metadata": {},
   "outputs": [],
   "source": [
    "height_dict = {}\n",
    "\n",
    "\n",
    "for i in range(len(df)):\n",
    "    \n",
    "    height = re.findall(\"\\w+\",df.detail[i])[2]\n",
    "    if(height in height_dict):\n",
    "        height_dict[height] = height_dict[height] + 1\n",
    "    else:\n",
    "        height_dict[height] = 1"
   ]
  },
  {
   "cell_type": "code",
   "execution_count": 97,
   "metadata": {},
   "outputs": [
    {
     "data": {
      "text/plain": [
       "{'低层': 822, '中层': 1161, '高层': 1062, '共3层': 1, '共5层': 11, '共4层': 3}"
      ]
     },
     "execution_count": 97,
     "metadata": {},
     "output_type": "execute_result"
    }
   ],
   "source": [
    "height_dict"
   ]
  },
  {
   "cell_type": "code",
   "execution_count": 98,
   "metadata": {},
   "outputs": [
    {
     "data": {
      "image/png": "[encoded data removed]",
      "text/plain": [
       "<Figure size 864x432 with 1 Axes>"
      ]
     },
     "metadata": {
      "needs_background": "light"
     },
     "output_type": "display_data"
    }
   ],
   "source": [
    "import matplotlib.pyplot as plt\n",
    "import matplotlib \n",
    "import numpy as np \n",
    "import matplotlib.pyplot as plt \n",
    "   \n",
    "\n",
    "\n",
    "\n",
    "fig = plt.figure(figsize=(12,6))\n",
    "plt.bar(range(len(height_dict)), (height_dict.values()), align='center')\n",
    "plt.xticks(range(len(height_dict)), (height_dict.keys()))\n",
    "# # for python 2.x:\n",
    "# plt.bar(range(len(D)), D.values(), align='center')  # python 2.x\n",
    "# plt.xticks(range(len(D)), D.keys())  # in python 2.x\n",
    "\n",
    "plt.show()\n",
    "fig.savefig('layer.png')"
   ]
  },
  {
   "cell_type": "code",
   "execution_count": 99,
   "metadata": {},
   "outputs": [
    {
     "name": "stdout",
     "output_type": "stream",
     "text": [
      "1232\n",
      "2室|41m²|低层(共30层)|2019年建造\n",
      "1233\n",
      "2室|41m²|低层(共30层)|2019年建造\n",
      "1252\n",
      "2室|41m²|低层(共30层)|2019年建造\n",
      "1257\n",
      "2室|42m²|低层(共30层)|2019年建造\n",
      "2492\n",
      "2室|98m²|高层(共7层)|2006年建造\n",
      "2805\n",
      "1室|35m²|高层(共6层)|2000年建造\n"
     ]
    }
   ],
   "source": [
    "for i in range(len(df)):\n",
    "    d = re.findall(\"\\d+\",df.detail[i])\n",
    "    if(len(d)!=5):\n",
    "        print(i)\n",
    "        print(df.detail[i])\n",
    "\n"
   ]
  },
  {
   "cell_type": "code",
   "execution_count": 100,
   "metadata": {},
   "outputs": [
    {
     "name": "stdout",
     "output_type": "stream",
     "text": [
      "697\n",
      "2室2厅|88m²|共3层|2012年建造\n",
      "2263\n",
      "3室2厅|108m²|共5层|2000年建造\n",
      "2417\n",
      "2室2厅|68m²|共4层|2000年建造\n",
      "2418\n",
      "2室1厅|59m²|共4层|2005年建造\n",
      "2791\n",
      "2室2厅|83m²|共5层|2002年建造\n",
      "2827\n",
      "3室2厅|107m²|共5层|2000年建造\n",
      "2828\n",
      "3室1厅|77m²|共5层|2009年建造\n",
      "2829\n",
      "3室1厅|77m²|共5层|2000年建造\n",
      "2830\n",
      "3室2厅|90m²|共5层|1998年建造\n",
      "2831\n",
      "3室1厅|84m²|共4层|2000年建造\n",
      "2832\n",
      "3室2厅|117m²|共5层|2000年建造\n",
      "2841\n",
      "3室2厅|94m²|共5层|2000年建造\n",
      "2921\n",
      "3室2厅|85m²|共5层|1999年建造\n",
      "2927\n",
      "3室2厅|103m²|共5层|2000年建造\n",
      "2962\n",
      "3室1厅|77m²|共5层|2000年建造\n"
     ]
    }
   ],
   "source": [
    "for i in range(len(df)):\n",
    "\n",
    "    d = re.findall(\"\\w+\",df.detail[i])\n",
    "    if(len(d)!=5):\n",
    "        print(i)\n",
    "        print(df.detail[i])"
   ]
  },
  {
   "cell_type": "code",
   "execution_count": 101,
   "metadata": {},
   "outputs": [
    {
     "data": {
      "text/html": [
       "<div>\n",
       "<style scoped>\n",
       "    .dataframe tbody tr th:only-of-type {\n",
       "        vertical-align: middle;\n",
       "    }\n",
       "\n",
       "    .dataframe tbody tr th {\n",
       "        vertical-align: top;\n",
       "    }\n",
       "\n",
       "    .dataframe thead th {\n",
       "        text-align: right;\n",
       "    }\n",
       "</style>\n",
       "<table border=\"1\" class=\"dataframe\">\n",
       "  <thead>\n",
       "    <tr style=\"text-align: right;\">\n",
       "      <th></th>\n",
       "      <th>title</th>\n",
       "      <th>number_of_rooms</th>\n",
       "      <th>number_of_halls</th>\n",
       "      <th>size</th>\n",
       "      <th>layer</th>\n",
       "      <th>high</th>\n",
       "      <th>mid</th>\n",
       "      <th>low</th>\n",
       "      <th>completed_year</th>\n",
       "      <th>in_xiangzhou</th>\n",
       "      <th>in_xiangcheng</th>\n",
       "      <th>in_fanzhou</th>\n",
       "      <th>in_gaoxin</th>\n",
       "      <th>price</th>\n",
       "    </tr>\n",
       "  </thead>\n",
       "  <tbody>\n",
       "  </tbody>\n",
       "</table>\n",
       "</div>"
      ],
      "text/plain": [
       "Empty DataFrame\n",
       "Columns: [title, number_of_rooms, number_of_halls, size, layer, high, mid, low, completed_year, in_xiangzhou, in_xiangcheng, in_fanzhou, in_gaoxin, price]\n",
       "Index: []"
      ]
     },
     "execution_count": 101,
     "metadata": {},
     "output_type": "execute_result"
    }
   ],
   "source": [
    "len(df)\n",
    "\n",
    "house_df = pd.DataFrame(columns = ['title','number_of_rooms','number_of_halls','size','layer', 'high','mid','low',\n",
    "'completed_year','in_xiangzhou','in_xiangcheng','in_fanzhou','in_gaoxin','price'])\n",
    "\n",
    "house_df"
   ]
  },
  {
   "cell_type": "code",
   "execution_count": 102,
   "metadata": {},
   "outputs": [],
   "source": [
    "for i in range(len(df)):\n",
    "    title = df.title[i]\n",
    "    d = re.findall(\"\\d+\",df.detail[i])\n",
    "    if(len(d)!=5):\n",
    "        room = int(d[0])\n",
    "        hall = 0\n",
    "        size = int(d[1])\n",
    "        layer = int(d[2])\n",
    "        completed = int(d[3])\n",
    "    else:\n",
    "        room = int(d[0])\n",
    "        hall = int(d[1])\n",
    "        size = int(d[2])\n",
    "        layer = int(d[3])\n",
    "        completed = int(d[4])\n",
    "    high = 0\n",
    "    mid = 0\n",
    "    low = 0\n",
    "    height = re.findall(\"\\w+\",df.detail[i])[2]\n",
    "    if(height == \"高层\"):\n",
    "        high = 1\n",
    "    elif(height == \"中层\"):\n",
    "        mid = 1\n",
    "    else:\n",
    "        low = 1\n",
    "    region = re.findall(\"\\s(\\w+)\",df.location[i])[0]\n",
    "    xz = 0\n",
    "    xc = 0\n",
    "    fc = 0\n",
    "    gx = 0\n",
    "    if(region == \"襄州\"):\n",
    "        xz = 1\n",
    "    elif(region == \"襄城\"):\n",
    "        xc = 1\n",
    "    elif(region == \"樊城\"):\n",
    "        fc = 1\n",
    "    elif(region == \"高新区\"):\n",
    "        gx = 1\n",
    "    else:\n",
    "        continue\n",
    "    p = re.findall(\"\\d+\",df.price[i])[0]\n",
    "    price = int(p)*10000\n",
    "    location = df.location[i]\n",
    "    house_df.loc[i] = [title,room,hall,size,layer,high,mid,low,completed,xz,xc,fc,gx,price]\n",
    "    "
   ]
  },
  {
   "cell_type": "code",
   "execution_count": 103,
   "metadata": {},
   "outputs": [
    {
     "data": {
      "text/html": [
       "<div>\n",
       "<style scoped>\n",
       "    .dataframe tbody tr th:only-of-type {\n",
       "        vertical-align: middle;\n",
       "    }\n",
       "\n",
       "    .dataframe tbody tr th {\n",
       "        vertical-align: top;\n",
       "    }\n",
       "\n",
       "    .dataframe thead th {\n",
       "        text-align: right;\n",
       "    }\n",
       "</style>\n",
       "<table border=\"1\" class=\"dataframe\">\n",
       "  <thead>\n",
       "    <tr style=\"text-align: right;\">\n",
       "      <th></th>\n",
       "      <th>title</th>\n",
       "      <th>number_of_rooms</th>\n",
       "      <th>number_of_halls</th>\n",
       "      <th>size</th>\n",
       "      <th>layer</th>\n",
       "      <th>high</th>\n",
       "      <th>mid</th>\n",
       "      <th>low</th>\n",
       "      <th>completed_year</th>\n",
       "      <th>in_xiangzhou</th>\n",
       "      <th>in_xiangcheng</th>\n",
       "      <th>in_fanzhou</th>\n",
       "      <th>in_gaoxin</th>\n",
       "      <th>price</th>\n",
       "    </tr>\n",
       "  </thead>\n",
       "  <tbody>\n",
       "    <tr>\n",
       "      <th>0</th>\n",
       "      <td>东津世纪城襄阳小四中 中间楼层装修未入住</td>\n",
       "      <td>3</td>\n",
       "      <td>2</td>\n",
       "      <td>137</td>\n",
       "      <td>33</td>\n",
       "      <td>0</td>\n",
       "      <td>0</td>\n",
       "      <td>1</td>\n",
       "      <td>2016</td>\n",
       "      <td>1</td>\n",
       "      <td>0</td>\n",
       "      <td>0</td>\n",
       "      <td>0</td>\n",
       "      <td>1280000</td>\n",
       "    </tr>\n",
       "    <tr>\n",
       "      <th>1</th>\n",
       "      <td>东津大三房带车位正常首付南北通透</td>\n",
       "      <td>3</td>\n",
       "      <td>2</td>\n",
       "      <td>123</td>\n",
       "      <td>33</td>\n",
       "      <td>0</td>\n",
       "      <td>0</td>\n",
       "      <td>1</td>\n",
       "      <td>2015</td>\n",
       "      <td>1</td>\n",
       "      <td>0</td>\n",
       "      <td>0</td>\n",
       "      <td>0</td>\n",
       "      <td>1000000</td>\n",
       "    </tr>\n",
       "    <tr>\n",
       "      <th>2</th>\n",
       "      <td>东津世纪城117平精装三居室</td>\n",
       "      <td>3</td>\n",
       "      <td>2</td>\n",
       "      <td>117</td>\n",
       "      <td>33</td>\n",
       "      <td>0</td>\n",
       "      <td>0</td>\n",
       "      <td>1</td>\n",
       "      <td>2016</td>\n",
       "      <td>1</td>\n",
       "      <td>0</td>\n",
       "      <td>0</td>\n",
       "      <td>0</td>\n",
       "      <td>1050000</td>\n",
       "    </tr>\n",
       "    <tr>\n",
       "      <th>3</th>\n",
       "      <td>东津世纪城117平米三房出售价格便宜</td>\n",
       "      <td>3</td>\n",
       "      <td>2</td>\n",
       "      <td>117</td>\n",
       "      <td>33</td>\n",
       "      <td>0</td>\n",
       "      <td>0</td>\n",
       "      <td>1</td>\n",
       "      <td>2015</td>\n",
       "      <td>1</td>\n",
       "      <td>0</td>\n",
       "      <td>0</td>\n",
       "      <td>0</td>\n",
       "      <td>960000</td>\n",
       "    </tr>\n",
       "    <tr>\n",
       "      <th>4</th>\n",
       "      <td>东津世纪城14区，交通方便中小学校，大2房家电齐全低价出售</td>\n",
       "      <td>2</td>\n",
       "      <td>2</td>\n",
       "      <td>80</td>\n",
       "      <td>32</td>\n",
       "      <td>0</td>\n",
       "      <td>0</td>\n",
       "      <td>1</td>\n",
       "      <td>2015</td>\n",
       "      <td>1</td>\n",
       "      <td>0</td>\n",
       "      <td>0</td>\n",
       "      <td>0</td>\n",
       "      <td>690000</td>\n",
       "    </tr>\n",
       "  </tbody>\n",
       "</table>\n",
       "</div>"
      ],
      "text/plain": [
       "                           title number_of_rooms number_of_halls size layer  \\\n",
       "0           东津世纪城襄阳小四中 中间楼层装修未入住               3               2  137    33   \n",
       "1               东津大三房带车位正常首付南北通透               3               2  123    33   \n",
       "2                 东津世纪城117平精装三居室               3               2  117    33   \n",
       "3             东津世纪城117平米三房出售价格便宜               3               2  117    33   \n",
       "4  东津世纪城14区，交通方便中小学校，大2房家电齐全低价出售               2               2   80    32   \n",
       "\n",
       "  high mid low completed_year in_xiangzhou in_xiangcheng in_fanzhou in_gaoxin  \\\n",
       "0    0   0   1           2016            1             0          0         0   \n",
       "1    0   0   1           2015            1             0          0         0   \n",
       "2    0   0   1           2016            1             0          0         0   \n",
       "3    0   0   1           2015            1             0          0         0   \n",
       "4    0   0   1           2015            1             0          0         0   \n",
       "\n",
       "     price  \n",
       "0  1280000  \n",
       "1  1000000  \n",
       "2  1050000  \n",
       "3   960000  \n",
       "4   690000  "
      ]
     },
     "execution_count": 103,
     "metadata": {},
     "output_type": "execute_result"
    }
   ],
   "source": [
    "house_df.head()"
   ]
  },
  {
   "cell_type": "code",
   "execution_count": 104,
   "metadata": {},
   "outputs": [
    {
     "data": {
      "text/plain": [
       "number_of_rooms    Int64\n",
       "number_of_halls    Int64\n",
       "size               Int64\n",
       "layer              Int64\n",
       "high               Int64\n",
       "mid                Int64\n",
       "low                Int64\n",
       "completed_year     Int64\n",
       "in_xiangzhou       Int64\n",
       "in_xiangcheng      Int64\n",
       "in_fanzhou         Int64\n",
       "in_gaoxin          Int64\n",
       "price              Int64\n",
       "dtype: object"
      ]
     },
     "execution_count": 104,
     "metadata": {},
     "output_type": "execute_result"
    }
   ],
   "source": [
    "without_title = house_df.drop('title',axis=1)\n",
    "without_title = without_title.convert_dtypes()\n",
    "without_title.dtypes"
   ]
  },
  {
   "cell_type": "code",
   "execution_count": 105,
   "metadata": {},
   "outputs": [
    {
     "data": {
      "text/html": [
       "<div>\n",
       "<style scoped>\n",
       "    .dataframe tbody tr th:only-of-type {\n",
       "        vertical-align: middle;\n",
       "    }\n",
       "\n",
       "    .dataframe tbody tr th {\n",
       "        vertical-align: top;\n",
       "    }\n",
       "\n",
       "    .dataframe thead th {\n",
       "        text-align: right;\n",
       "    }\n",
       "</style>\n",
       "<table border=\"1\" class=\"dataframe\">\n",
       "  <thead>\n",
       "    <tr style=\"text-align: right;\">\n",
       "      <th></th>\n",
       "      <th>number_of_rooms</th>\n",
       "      <th>number_of_halls</th>\n",
       "      <th>size</th>\n",
       "      <th>layer</th>\n",
       "      <th>high</th>\n",
       "      <th>mid</th>\n",
       "      <th>low</th>\n",
       "      <th>completed_year</th>\n",
       "      <th>in_xiangzhou</th>\n",
       "      <th>in_xiangcheng</th>\n",
       "      <th>in_fanzhou</th>\n",
       "      <th>in_gaoxin</th>\n",
       "      <th>price</th>\n",
       "    </tr>\n",
       "  </thead>\n",
       "  <tbody>\n",
       "    <tr>\n",
       "      <th>count</th>\n",
       "      <td>3028.000000</td>\n",
       "      <td>3028.000000</td>\n",
       "      <td>3028.000000</td>\n",
       "      <td>3028.000000</td>\n",
       "      <td>3028.000000</td>\n",
       "      <td>3028.00000</td>\n",
       "      <td>3028.000000</td>\n",
       "      <td>3028.000000</td>\n",
       "      <td>3028.000000</td>\n",
       "      <td>3028.000000</td>\n",
       "      <td>3028.000000</td>\n",
       "      <td>3028.000000</td>\n",
       "      <td>3.028000e+03</td>\n",
       "    </tr>\n",
       "    <tr>\n",
       "      <th>mean</th>\n",
       "      <td>2.650594</td>\n",
       "      <td>1.913474</td>\n",
       "      <td>101.031044</td>\n",
       "      <td>20.803831</td>\n",
       "      <td>0.344122</td>\n",
       "      <td>0.38144</td>\n",
       "      <td>0.274439</td>\n",
       "      <td>2009.879789</td>\n",
       "      <td>0.428996</td>\n",
       "      <td>0.186262</td>\n",
       "      <td>0.312417</td>\n",
       "      <td>0.072325</td>\n",
       "      <td>8.761988e+05</td>\n",
       "    </tr>\n",
       "    <tr>\n",
       "      <th>std</th>\n",
       "      <td>0.612697</td>\n",
       "      <td>0.291568</td>\n",
       "      <td>24.309840</td>\n",
       "      <td>12.654300</td>\n",
       "      <td>0.475159</td>\n",
       "      <td>0.48582</td>\n",
       "      <td>0.446305</td>\n",
       "      <td>6.934310</td>\n",
       "      <td>0.495015</td>\n",
       "      <td>0.389382</td>\n",
       "      <td>0.463556</td>\n",
       "      <td>0.259068</td>\n",
       "      <td>2.773379e+05</td>\n",
       "    </tr>\n",
       "    <tr>\n",
       "      <th>min</th>\n",
       "      <td>1.000000</td>\n",
       "      <td>0.000000</td>\n",
       "      <td>32.000000</td>\n",
       "      <td>3.000000</td>\n",
       "      <td>0.000000</td>\n",
       "      <td>0.00000</td>\n",
       "      <td>0.000000</td>\n",
       "      <td>1987.000000</td>\n",
       "      <td>0.000000</td>\n",
       "      <td>0.000000</td>\n",
       "      <td>0.000000</td>\n",
       "      <td>0.000000</td>\n",
       "      <td>2.100000e+05</td>\n",
       "    </tr>\n",
       "    <tr>\n",
       "      <th>25%</th>\n",
       "      <td>2.000000</td>\n",
       "      <td>2.000000</td>\n",
       "      <td>86.000000</td>\n",
       "      <td>7.000000</td>\n",
       "      <td>0.000000</td>\n",
       "      <td>0.00000</td>\n",
       "      <td>0.000000</td>\n",
       "      <td>2002.000000</td>\n",
       "      <td>0.000000</td>\n",
       "      <td>0.000000</td>\n",
       "      <td>0.000000</td>\n",
       "      <td>0.000000</td>\n",
       "      <td>6.900000e+05</td>\n",
       "    </tr>\n",
       "    <tr>\n",
       "      <th>50%</th>\n",
       "      <td>3.000000</td>\n",
       "      <td>2.000000</td>\n",
       "      <td>100.000000</td>\n",
       "      <td>30.000000</td>\n",
       "      <td>0.000000</td>\n",
       "      <td>0.00000</td>\n",
       "      <td>0.000000</td>\n",
       "      <td>2013.000000</td>\n",
       "      <td>0.000000</td>\n",
       "      <td>0.000000</td>\n",
       "      <td>0.000000</td>\n",
       "      <td>0.000000</td>\n",
       "      <td>8.500000e+05</td>\n",
       "    </tr>\n",
       "    <tr>\n",
       "      <th>75%</th>\n",
       "      <td>3.000000</td>\n",
       "      <td>2.000000</td>\n",
       "      <td>120.000000</td>\n",
       "      <td>33.000000</td>\n",
       "      <td>1.000000</td>\n",
       "      <td>1.00000</td>\n",
       "      <td>1.000000</td>\n",
       "      <td>2015.000000</td>\n",
       "      <td>1.000000</td>\n",
       "      <td>0.000000</td>\n",
       "      <td>1.000000</td>\n",
       "      <td>0.000000</td>\n",
       "      <td>1.010000e+06</td>\n",
       "    </tr>\n",
       "    <tr>\n",
       "      <th>max</th>\n",
       "      <td>8.000000</td>\n",
       "      <td>3.000000</td>\n",
       "      <td>240.000000</td>\n",
       "      <td>34.000000</td>\n",
       "      <td>1.000000</td>\n",
       "      <td>1.00000</td>\n",
       "      <td>1.000000</td>\n",
       "      <td>2021.000000</td>\n",
       "      <td>1.000000</td>\n",
       "      <td>1.000000</td>\n",
       "      <td>1.000000</td>\n",
       "      <td>1.000000</td>\n",
       "      <td>2.700000e+06</td>\n",
       "    </tr>\n",
       "  </tbody>\n",
       "</table>\n",
       "</div>"
      ],
      "text/plain": [
       "       number_of_rooms  number_of_halls         size        layer  \\\n",
       "count      3028.000000      3028.000000  3028.000000  3028.000000   \n",
       "mean          2.650594         1.913474   101.031044    20.803831   \n",
       "std           0.612697         0.291568    24.309840    12.654300   \n",
       "min           1.000000         0.000000    32.000000     3.000000   \n",
       "25%           2.000000         2.000000    86.000000     7.000000   \n",
       "50%           3.000000         2.000000   100.000000    30.000000   \n",
       "75%           3.000000         2.000000   120.000000    33.000000   \n",
       "max           8.000000         3.000000   240.000000    34.000000   \n",
       "\n",
       "              high         mid          low  completed_year  in_xiangzhou  \\\n",
       "count  3028.000000  3028.00000  3028.000000     3028.000000   3028.000000   \n",
       "mean      0.344122     0.38144     0.274439     2009.879789      0.428996   \n",
       "std       0.475159     0.48582     0.446305        6.934310      0.495015   \n",
       "min       0.000000     0.00000     0.000000     1987.000000      0.000000   \n",
       "25%       0.000000     0.00000     0.000000     2002.000000      0.000000   \n",
       "50%       0.000000     0.00000     0.000000     2013.000000      0.000000   \n",
       "75%       1.000000     1.00000     1.000000     2015.000000      1.000000   \n",
       "max       1.000000     1.00000     1.000000     2021.000000      1.000000   \n",
       "\n",
       "       in_xiangcheng   in_fanzhou    in_gaoxin         price  \n",
       "count    3028.000000  3028.000000  3028.000000  3.028000e+03  \n",
       "mean        0.186262     0.312417     0.072325  8.761988e+05  \n",
       "std         0.389382     0.463556     0.259068  2.773379e+05  \n",
       "min         0.000000     0.000000     0.000000  2.100000e+05  \n",
       "25%         0.000000     0.000000     0.000000  6.900000e+05  \n",
       "50%         0.000000     0.000000     0.000000  8.500000e+05  \n",
       "75%         0.000000     1.000000     0.000000  1.010000e+06  \n",
       "max         1.000000     1.000000     1.000000  2.700000e+06  "
      ]
     },
     "execution_count": 105,
     "metadata": {},
     "output_type": "execute_result"
    }
   ],
   "source": [
    "without_title.describe()"
   ]
  },
  {
   "cell_type": "code",
   "execution_count": 201,
   "metadata": {},
   "outputs": [],
   "source": [
    "import seaborn as sns\n",
    "import matplotlib.pyplot as plt\n",
    "import numpy as np\n"
   ]
  },
  {
   "cell_type": "code",
   "execution_count": null,
   "metadata": {
    "scrolled": true
   },
   "outputs": [],
   "source": []
  },
  {
   "cell_type": "code",
   "execution_count": 202,
   "metadata": {},
   "outputs": [],
   "source": [
    "y = house_df[['price']]\n"
   ]
  },
  {
   "cell_type": "code",
   "execution_count": 203,
   "metadata": {},
   "outputs": [
    {
     "data": {
      "text/html": [
       "<div>\n",
       "<style scoped>\n",
       "    .dataframe tbody tr th:only-of-type {\n",
       "        vertical-align: middle;\n",
       "    }\n",
       "\n",
       "    .dataframe tbody tr th {\n",
       "        vertical-align: top;\n",
       "    }\n",
       "\n",
       "    .dataframe thead th {\n",
       "        text-align: right;\n",
       "    }\n",
       "</style>\n",
       "<table border=\"1\" class=\"dataframe\">\n",
       "  <thead>\n",
       "    <tr style=\"text-align: right;\">\n",
       "      <th></th>\n",
       "      <th>price</th>\n",
       "    </tr>\n",
       "  </thead>\n",
       "  <tbody>\n",
       "    <tr>\n",
       "      <th>0</th>\n",
       "      <td>1280000</td>\n",
       "    </tr>\n",
       "    <tr>\n",
       "      <th>1</th>\n",
       "      <td>1000000</td>\n",
       "    </tr>\n",
       "    <tr>\n",
       "      <th>2</th>\n",
       "      <td>1050000</td>\n",
       "    </tr>\n",
       "    <tr>\n",
       "      <th>3</th>\n",
       "      <td>960000</td>\n",
       "    </tr>\n",
       "    <tr>\n",
       "      <th>4</th>\n",
       "      <td>690000</td>\n",
       "    </tr>\n",
       "  </tbody>\n",
       "</table>\n",
       "</div>"
      ],
      "text/plain": [
       "     price\n",
       "0  1280000\n",
       "1  1000000\n",
       "2  1050000\n",
       "3   960000\n",
       "4   690000"
      ]
     },
     "execution_count": 203,
     "metadata": {},
     "output_type": "execute_result"
    }
   ],
   "source": [
    "y.head()"
   ]
  },
  {
   "cell_type": "code",
   "execution_count": 204,
   "metadata": {},
   "outputs": [
    {
     "data": {
      "text/html": [
       "<div>\n",
       "<style scoped>\n",
       "    .dataframe tbody tr th:only-of-type {\n",
       "        vertical-align: middle;\n",
       "    }\n",
       "\n",
       "    .dataframe tbody tr th {\n",
       "        vertical-align: top;\n",
       "    }\n",
       "\n",
       "    .dataframe thead th {\n",
       "        text-align: right;\n",
       "    }\n",
       "</style>\n",
       "<table border=\"1\" class=\"dataframe\">\n",
       "  <thead>\n",
       "    <tr style=\"text-align: right;\">\n",
       "      <th></th>\n",
       "      <th>number_of_rooms</th>\n",
       "      <th>number_of_halls</th>\n",
       "      <th>size</th>\n",
       "      <th>layer</th>\n",
       "      <th>high</th>\n",
       "      <th>mid</th>\n",
       "      <th>low</th>\n",
       "      <th>completed_year</th>\n",
       "      <th>in_xiangzhou</th>\n",
       "      <th>in_xiangcheng</th>\n",
       "      <th>in_fanzhou</th>\n",
       "      <th>in_gaoxin</th>\n",
       "    </tr>\n",
       "  </thead>\n",
       "  <tbody>\n",
       "    <tr>\n",
       "      <th>0</th>\n",
       "      <td>3</td>\n",
       "      <td>2</td>\n",
       "      <td>137</td>\n",
       "      <td>33</td>\n",
       "      <td>0</td>\n",
       "      <td>0</td>\n",
       "      <td>1</td>\n",
       "      <td>2016</td>\n",
       "      <td>1</td>\n",
       "      <td>0</td>\n",
       "      <td>0</td>\n",
       "      <td>0</td>\n",
       "    </tr>\n",
       "    <tr>\n",
       "      <th>1</th>\n",
       "      <td>3</td>\n",
       "      <td>2</td>\n",
       "      <td>123</td>\n",
       "      <td>33</td>\n",
       "      <td>0</td>\n",
       "      <td>0</td>\n",
       "      <td>1</td>\n",
       "      <td>2015</td>\n",
       "      <td>1</td>\n",
       "      <td>0</td>\n",
       "      <td>0</td>\n",
       "      <td>0</td>\n",
       "    </tr>\n",
       "    <tr>\n",
       "      <th>2</th>\n",
       "      <td>3</td>\n",
       "      <td>2</td>\n",
       "      <td>117</td>\n",
       "      <td>33</td>\n",
       "      <td>0</td>\n",
       "      <td>0</td>\n",
       "      <td>1</td>\n",
       "      <td>2016</td>\n",
       "      <td>1</td>\n",
       "      <td>0</td>\n",
       "      <td>0</td>\n",
       "      <td>0</td>\n",
       "    </tr>\n",
       "    <tr>\n",
       "      <th>3</th>\n",
       "      <td>3</td>\n",
       "      <td>2</td>\n",
       "      <td>117</td>\n",
       "      <td>33</td>\n",
       "      <td>0</td>\n",
       "      <td>0</td>\n",
       "      <td>1</td>\n",
       "      <td>2015</td>\n",
       "      <td>1</td>\n",
       "      <td>0</td>\n",
       "      <td>0</td>\n",
       "      <td>0</td>\n",
       "    </tr>\n",
       "    <tr>\n",
       "      <th>4</th>\n",
       "      <td>2</td>\n",
       "      <td>2</td>\n",
       "      <td>80</td>\n",
       "      <td>32</td>\n",
       "      <td>0</td>\n",
       "      <td>0</td>\n",
       "      <td>1</td>\n",
       "      <td>2015</td>\n",
       "      <td>1</td>\n",
       "      <td>0</td>\n",
       "      <td>0</td>\n",
       "      <td>0</td>\n",
       "    </tr>\n",
       "  </tbody>\n",
       "</table>\n",
       "</div>"
      ],
      "text/plain": [
       "  number_of_rooms number_of_halls size layer high mid low completed_year  \\\n",
       "0               3               2  137    33    0   0   1           2016   \n",
       "1               3               2  123    33    0   0   1           2015   \n",
       "2               3               2  117    33    0   0   1           2016   \n",
       "3               3               2  117    33    0   0   1           2015   \n",
       "4               2               2   80    32    0   0   1           2015   \n",
       "\n",
       "  in_xiangzhou in_xiangcheng in_fanzhou in_gaoxin  \n",
       "0            1             0          0         0  \n",
       "1            1             0          0         0  \n",
       "2            1             0          0         0  \n",
       "3            1             0          0         0  \n",
       "4            1             0          0         0  "
      ]
     },
     "execution_count": 204,
     "metadata": {},
     "output_type": "execute_result"
    }
   ],
   "source": [
    "X = house_df[['number_of_rooms','number_of_halls','size','layer','high','mid','low','completed_year',\n",
    "              'in_xiangzhou','in_xiangcheng','in_fanzhou','in_gaoxin']]\n",
    "X.head()"
   ]
  },
  {
   "cell_type": "code",
   "execution_count": 205,
   "metadata": {},
   "outputs": [],
   "source": [
    "def normalization(X):\n",
    "    X = np.array(X)\n",
    "    mean = np.mean(X)\n",
    "    std = np.std(X)\n",
    "    return (X-mean)/std\n",
    "X = normalization(X)\n",
    "y = normalization(y)"
   ]
  },
  {
   "cell_type": "code",
   "execution_count": null,
   "metadata": {},
   "outputs": [],
   "source": []
  },
  {
   "cell_type": "markdown",
   "metadata": {},
   "source": [
    "## Linear Regression"
   ]
  },
  {
   "cell_type": "code",
   "execution_count": 206,
   "metadata": {},
   "outputs": [],
   "source": [
    "from sklearn import datasets, linear_model\n",
    "from sklearn.model_selection import train_test_split\n",
    "from sklearn.metrics import confusion_matrix, classification_report, accuracy_score\n",
    "X_train, X_test, y_train, y_test = train_test_split(X, y,test_size = 0.8, random_state=10)"
   ]
  },
  {
   "cell_type": "code",
   "execution_count": 207,
   "metadata": {},
   "outputs": [
    {
     "data": {
      "text/plain": [
       "LinearRegression()"
      ]
     },
     "execution_count": 207,
     "metadata": {},
     "output_type": "execute_result"
    }
   ],
   "source": [
    "from sklearn.linear_model import LinearRegression\n",
    "linreg = LinearRegression()\n",
    "linreg.fit(X_train, y_train)"
   ]
  },
  {
   "cell_type": "code",
   "execution_count": 208,
   "metadata": {
    "scrolled": true
   },
   "outputs": [
    {
     "name": "stdout",
     "output_type": "stream",
     "text": [
      "[-3.02020174e+09]\n",
      "[[ 4.28153123e+00 -2.55985164e+01  1.74036028e+01  8.42567704e+00\n",
      "  -2.38452062e+09 -2.38452056e+09 -2.38452049e+09 -2.11008961e-02\n",
      "  -5.59095436e+08 -5.59094841e+08 -5.59094950e+08 -5.59095412e+08]]\n"
     ]
    }
   ],
   "source": [
    "print (linreg.intercept_)\n",
    "print (linreg.coef_)"
   ]
  },
  {
   "cell_type": "code",
   "execution_count": 209,
   "metadata": {},
   "outputs": [
    {
     "name": "stdout",
     "output_type": "stream",
     "text": [
      "[[ 1.83316422]\n",
      " [ 0.36373901]\n",
      " [-0.32084846]\n",
      " ...\n",
      " [-0.72609329]\n",
      " [ 0.12392139]\n",
      " [-0.38217449]]\n"
     ]
    }
   ],
   "source": [
    "predict_result = linreg.predict(X_test)\n",
    "print(predict_result)\n"
   ]
  },
  {
   "cell_type": "code",
   "execution_count": 210,
   "metadata": {},
   "outputs": [
    {
     "name": "stdout",
     "output_type": "stream",
     "text": [
      "0.6691866431238696\n"
     ]
    }
   ],
   "source": [
    "\n",
    "acc = linreg.score(X_test,y_test) \n",
    "print(acc)"
   ]
  },
  {
   "cell_type": "code",
   "execution_count": null,
   "metadata": {},
   "outputs": [],
   "source": []
  },
  {
   "cell_type": "code",
   "execution_count": null,
   "metadata": {},
   "outputs": [],
   "source": []
  },
  {
   "cell_type": "code",
   "execution_count": 168,
   "metadata": {},
   "outputs": [
    {
     "data": {
      "image/png": "[encoded data removed]",
      "text/plain": [
       "<Figure size 864x432 with 1 Axes>"
      ]
     },
     "metadata": {
      "needs_background": "light"
     },
     "output_type": "display_data"
    }
   ],
   "source": [
    "y = y_test.flatten()\n",
    "y_hat = predict_result.flatten()\n",
    "fig, ax = plt.subplots(figsize=(12,6))\n",
    "ax.scatter(y, y_hat)\n",
    "ax.plot([y.min(), y.max()], [y.min(), y.max()], 'k--', lw=4)\n",
    "ax.set_xlabel('Measured')\n",
    "ax.set_ylabel('Predicted')\n",
    "plt.show()\n",
    "fig.savefig('layer.png')"
   ]
  },
  {
   "cell_type": "code",
   "execution_count": 117,
   "metadata": {},
   "outputs": [
    {
     "name": "stdout",
     "output_type": "stream",
     "text": [
      "[[-4.00351037e+12]\n",
      " [-4.00357674e+12]]\n"
     ]
    }
   ],
   "source": [
    "house1 = [2,2,90,6,0,0,1,2000,0,1,0,0]\n",
    "house2 = [2,1,83,6,0,0,1,1998,0,0,1,0]\n",
    "\n",
    "list = [house1,house2]\n",
    "predict_result = linreg.predict(list)\n",
    "print(predict_result)"
   ]
  },
  {
   "cell_type": "code",
   "execution_count": 118,
   "metadata": {},
   "outputs": [
    {
     "data": {
      "text/plain": [
       "{'东津世纪城': 977,\n",
       " '民发世界城': 119,\n",
       " '凯地广场': 244,\n",
       " '嘉佰惠广场': 166,\n",
       " '武商沃尔玛': 143,\n",
       " '悦活荟': 145,\n",
       " '火车站': 636,\n",
       " '万达广场': 117,\n",
       " '人民广场': 32,\n",
       " '城区': 9,\n",
       " '新五中': 43,\n",
       " '铁四院': 37,\n",
       " '广电中心': 158,\n",
       " '大润发广场': 31,\n",
       " '鼓楼': 30,\n",
       " '东门口': 120,\n",
       " '岘山广场': 12,\n",
       " '环城': 4,\n",
       " '华洋堂': 17,\n",
       " '鹿鸣岛': 4,\n",
       " '武商广场': 9,\n",
       " '4栋': 1,\n",
       " '北城': 4,\n",
       " '天天福广场': 1,\n",
       " '华龙中心': 1}"
      ]
     },
     "execution_count": 118,
     "metadata": {},
     "output_type": "execute_result"
    }
   ],
   "source": [
    "neighbor_dict = {}\n",
    "\n",
    "\n",
    "for i in range(len(df)):\n",
    "    \n",
    "    location = re.findall(\"-(\\w+)\",df.location[i])[0]\n",
    "    if(location in neighbor_dict):\n",
    "        neighbor_dict[location] = neighbor_dict[location] + 1\n",
    "    else:\n",
    "        neighbor_dict[location] = 1\n",
    "        \n",
    "neighbor_dict"
   ]
  },
  {
   "cell_type": "code",
   "execution_count": 83,
   "metadata": {},
   "outputs": [
    {
     "data": {
      "text/html": [
       "<div>\n",
       "<style scoped>\n",
       "    .dataframe tbody tr th:only-of-type {\n",
       "        vertical-align: middle;\n",
       "    }\n",
       "\n",
       "    .dataframe tbody tr th {\n",
       "        vertical-align: top;\n",
       "    }\n",
       "\n",
       "    .dataframe thead th {\n",
       "        text-align: right;\n",
       "    }\n",
       "</style>\n",
       "<table border=\"1\" class=\"dataframe\">\n",
       "  <thead>\n",
       "    <tr style=\"text-align: right;\">\n",
       "      <th></th>\n",
       "      <th>0</th>\n",
       "    </tr>\n",
       "  </thead>\n",
       "  <tbody>\n",
       "    <tr>\n",
       "      <th>东津世纪城</th>\n",
       "      <td>977</td>\n",
       "    </tr>\n",
       "    <tr>\n",
       "      <th>火车站</th>\n",
       "      <td>636</td>\n",
       "    </tr>\n",
       "    <tr>\n",
       "      <th>凯地广场</th>\n",
       "      <td>244</td>\n",
       "    </tr>\n",
       "    <tr>\n",
       "      <th>嘉佰惠广场</th>\n",
       "      <td>166</td>\n",
       "    </tr>\n",
       "    <tr>\n",
       "      <th>广电中心</th>\n",
       "      <td>158</td>\n",
       "    </tr>\n",
       "    <tr>\n",
       "      <th>悦活荟</th>\n",
       "      <td>145</td>\n",
       "    </tr>\n",
       "    <tr>\n",
       "      <th>武商沃尔玛</th>\n",
       "      <td>143</td>\n",
       "    </tr>\n",
       "    <tr>\n",
       "      <th>东门口</th>\n",
       "      <td>120</td>\n",
       "    </tr>\n",
       "    <tr>\n",
       "      <th>民发世界城</th>\n",
       "      <td>119</td>\n",
       "    </tr>\n",
       "    <tr>\n",
       "      <th>万达广场</th>\n",
       "      <td>117</td>\n",
       "    </tr>\n",
       "    <tr>\n",
       "      <th>新五中</th>\n",
       "      <td>43</td>\n",
       "    </tr>\n",
       "    <tr>\n",
       "      <th>铁四院</th>\n",
       "      <td>37</td>\n",
       "    </tr>\n",
       "    <tr>\n",
       "      <th>人民广场</th>\n",
       "      <td>32</td>\n",
       "    </tr>\n",
       "    <tr>\n",
       "      <th>大润发广场</th>\n",
       "      <td>31</td>\n",
       "    </tr>\n",
       "    <tr>\n",
       "      <th>鼓楼</th>\n",
       "      <td>30</td>\n",
       "    </tr>\n",
       "    <tr>\n",
       "      <th>华洋堂</th>\n",
       "      <td>17</td>\n",
       "    </tr>\n",
       "    <tr>\n",
       "      <th>岘山广场</th>\n",
       "      <td>12</td>\n",
       "    </tr>\n",
       "    <tr>\n",
       "      <th>城区</th>\n",
       "      <td>9</td>\n",
       "    </tr>\n",
       "    <tr>\n",
       "      <th>武商广场</th>\n",
       "      <td>9</td>\n",
       "    </tr>\n",
       "    <tr>\n",
       "      <th>北城</th>\n",
       "      <td>4</td>\n",
       "    </tr>\n",
       "    <tr>\n",
       "      <th>鹿鸣岛</th>\n",
       "      <td>4</td>\n",
       "    </tr>\n",
       "    <tr>\n",
       "      <th>环城</th>\n",
       "      <td>4</td>\n",
       "    </tr>\n",
       "    <tr>\n",
       "      <th>4栋</th>\n",
       "      <td>1</td>\n",
       "    </tr>\n",
       "    <tr>\n",
       "      <th>天天福广场</th>\n",
       "      <td>1</td>\n",
       "    </tr>\n",
       "    <tr>\n",
       "      <th>华龙中心</th>\n",
       "      <td>1</td>\n",
       "    </tr>\n",
       "  </tbody>\n",
       "</table>\n",
       "</div>"
      ],
      "text/plain": [
       "         0\n",
       "东津世纪城  977\n",
       "火车站    636\n",
       "凯地广场   244\n",
       "嘉佰惠广场  166\n",
       "广电中心   158\n",
       "悦活荟    145\n",
       "武商沃尔玛  143\n",
       "东门口    120\n",
       "民发世界城  119\n",
       "万达广场   117\n",
       "新五中     43\n",
       "铁四院     37\n",
       "人民广场    32\n",
       "大润发广场   31\n",
       "鼓楼      30\n",
       "华洋堂     17\n",
       "岘山广场    12\n",
       "城区       9\n",
       "武商广场     9\n",
       "北城       4\n",
       "鹿鸣岛      4\n",
       "环城       4\n",
       "4栋       1\n",
       "天天福广场    1\n",
       "华龙中心     1"
      ]
     },
     "execution_count": 83,
     "metadata": {},
     "output_type": "execute_result"
    }
   ],
   "source": [
    "#countdf = pd.DataFrame(data = neighbor_dict)\n",
    "\n",
    "countdf = pd.Series(neighbor_dict)\n",
    "countdf = countdf.sort_values(ascending=False)\n",
    "countdf = countdf.to_frame()\n",
    "countdf"
   ]
  },
  {
   "cell_type": "code",
   "execution_count": 119,
   "metadata": {},
   "outputs": [
    {
     "data": {
      "image/png": "[encoded data removed]",
      "text/plain": [
       "<Figure size 864x432 with 1 Axes>"
      ]
     },
     "metadata": {
      "needs_background": "light"
     },
     "output_type": "display_data"
    }
   ],
   "source": [
    "import matplotlib.pyplot as plt\n",
    "import matplotlib \n",
    "import numpy as np \n",
    "import matplotlib.pyplot as plt \n",
    "   \n",
    "\n",
    "\n",
    "plt.rcParams['font.sans-serif']=['Arial Unicode MS']\n",
    "fig = plt.figure(figsize=(12,6))\n",
    "plt.bar(range(len(neighbor_dict)), (neighbor_dict.values()))\n",
    "plt.xticks(range(len(neighbor_dict)), (neighbor_dict.keys()))\n",
    "# # for python 2.x:\n",
    "# plt.bar(range(len(D)), D.values(), align='center')  # python 2.x\n",
    "# plt.xticks(range(len(D)), D.keys())  # in python 2.x\n",
    "plt.xticks(rotation=90)\n",
    "plt.show()\n",
    "fig.savefig('neighbor_name.png')"
   ]
  },
  {
   "cell_type": "code",
   "execution_count": 120,
   "metadata": {},
   "outputs": [
    {
     "name": "stdout",
     "output_type": "stream",
     "text": [
      "{'东津世纪城': 977, '民发世界城': 119, '凯地广场': 244, '嘉佰惠广场': 166, '武商沃尔玛': 143, '悦活荟': 145, '火车站': 636, '万达广场': 117, '人民广场': 32, '新五中': 43, '铁四院': 37, '广电中心': 158, '大润发广场': 31, '鼓楼': 30, '东门口': 120}\n"
     ]
    },
    {
     "data": {
      "image/png": "[encoded data removed]",
      "text/plain": [
       "<Figure size 864x432 with 1 Axes>"
      ]
     },
     "metadata": {
      "needs_background": "light"
     },
     "output_type": "display_data"
    }
   ],
   "source": [
    "\n",
    "new_neighbor_dict = {}\n",
    "for key,value in neighbor_dict.items():\n",
    "    if value >=30:\n",
    "        new_neighbor_dict.update({key:value})\n",
    "        \n",
    "print(new_neighbor_dict)  \n",
    "import matplotlib.pyplot as plt\n",
    "import matplotlib \n",
    "import numpy as np \n",
    "import matplotlib.pyplot as plt \n",
    "   \n",
    "\n",
    "\n",
    "plt.rcParams['font.sans-serif']=['Arial Unicode MS']\n",
    "fig = plt.figure(figsize=(12,6))\n",
    "plt.bar(range(len(new_neighbor_dict)), (new_neighbor_dict.values()))\n",
    "plt.xticks(range(len(new_neighbor_dict)), (new_neighbor_dict.keys()))\n",
    "# # for python 2.x:\n",
    "# plt.bar(range(len(D)), D.values(), align='center')  # python 2.x\n",
    "# plt.xticks(range(len(D)), D.keys())  # in python 2.x\n",
    "plt.xticks(rotation=90)\n",
    "plt.show()\n",
    "fig.savefig('new_neighbor_name.png')"
   ]
  },
  {
   "cell_type": "code",
   "execution_count": 122,
   "metadata": {},
   "outputs": [
    {
     "name": "stdout",
     "output_type": "stream",
     "text": [
      "['东津世纪城', '民发世界城', '凯地广场', '嘉佰惠广场', '武商沃尔玛', '悦活荟', '火车站', '万达广场', '人民广场', '新五中', '铁四院', '广电中心', '大润发广场', '鼓楼', '东门口']\n"
     ]
    }
   ],
   "source": [
    "\n",
    "neighbor_name = []\n",
    "for key,value in neighbor_dict.items():\n",
    "    if value >=30:\n",
    "        neighbor_name.append(key)\n",
    "        \n",
    "print(neighbor_name)    "
   ]
  },
  {
   "cell_type": "code",
   "execution_count": 187,
   "metadata": {},
   "outputs": [
    {
     "name": "stdout",
     "output_type": "stream",
     "text": [
      "[('嘉佰惠广场', -63612.5907), ('大润发广场', -63323.8003), ('东津世纪城', -63273.0677), ('悦活荟', -63247.182), ('新五中', -63183.1148), ('铁四院', -63107.5775), ('民发世界城', -63061.2421), ('火车站', -62995.9605), ('凯地广场', -62886.5505), ('人民广场', -62880.5346), ('广电中心', -62857.9271), ('武商沃尔玛', -62830.2585), ('鼓楼', -62796.0561), ('东门口', -62785.2625), ('万达广场', -62768.2295)]\n"
     ]
    }
   ],
   "source": [
    "dic = {}\n",
    "a = [1,2,3,4,5,6,7,8,9,10,11,12,13,14,15]\n",
    "co = [-6.32730677e+04, -6.30612421e+04, -6.28865505e+04, -6.36125907e+04, -6.28302585e+04, \n",
    "      -6.32471820e+04, -6.29959605e+04, -6.27682295e+04, -6.28805346e+04, -6.31831148e+04,\n",
    "      -6.31075775e+04, -6.28579271e+04,-6.33238003e+04, -6.27960561e+04, -6.27852625e+04]\n",
    "for i in range(15):\n",
    "    dic[neighbor_name[i]] = co[i]\n",
    "print(sorted(dic.items(), key = lambda kv:(kv[1], kv[0])))  \n"
   ]
  },
  {
   "cell_type": "code",
   "execution_count": 196,
   "metadata": {},
   "outputs": [
    {
     "data": {
      "text/plain": [
       "[1.008042893738145,\n",
       " 1.0046681673568634,\n",
       " 1.0018850460008593,\n",
       " 1.0134520474247246,\n",
       " 1.0009882228715723,\n",
       " 1.007630492429295,\n",
       " 1.003628125276339,\n",
       " 1.0,\n",
       " 1.001789202927892,\n",
       " 1.0066097977162156,\n",
       " 1.0054063656519099,\n",
       " 1.001429028677637,\n",
       " 1.008851146582046,\n",
       " 1.0004433230030807,\n",
       " 1.000271363397306]"
      ]
     },
     "execution_count": 196,
     "metadata": {},
     "output_type": "execute_result"
    }
   ],
   "source": [
    "rate = []\n",
    "for i in range(15):\n",
    "    rate.append(co[i]/-62768.2295)\n",
    "rate"
   ]
  },
  {
   "cell_type": "code",
   "execution_count": 194,
   "metadata": {},
   "outputs": [
    {
     "data": {
      "text/plain": [
       "1048576"
      ]
     },
     "execution_count": 194,
     "metadata": {},
     "output_type": "execute_result"
    }
   ],
   "source": []
  },
  {
   "cell_type": "code",
   "execution_count": 123,
   "metadata": {},
   "outputs": [
    {
     "data": {
      "text/html": [
       "<div>\n",
       "<style scoped>\n",
       "    .dataframe tbody tr th:only-of-type {\n",
       "        vertical-align: middle;\n",
       "    }\n",
       "\n",
       "    .dataframe tbody tr th {\n",
       "        vertical-align: top;\n",
       "    }\n",
       "\n",
       "    .dataframe thead th {\n",
       "        text-align: right;\n",
       "    }\n",
       "</style>\n",
       "<table border=\"1\" class=\"dataframe\">\n",
       "  <thead>\n",
       "    <tr style=\"text-align: right;\">\n",
       "      <th></th>\n",
       "      <th>title</th>\n",
       "      <th>number_of_rooms</th>\n",
       "      <th>number_of_halls</th>\n",
       "      <th>size</th>\n",
       "      <th>layer</th>\n",
       "      <th>high</th>\n",
       "      <th>mid</th>\n",
       "      <th>low</th>\n",
       "      <th>completed_year</th>\n",
       "      <th>东津世纪城</th>\n",
       "      <th>...</th>\n",
       "      <th>火车站</th>\n",
       "      <th>万达广场</th>\n",
       "      <th>人民广场</th>\n",
       "      <th>新五中</th>\n",
       "      <th>铁四院</th>\n",
       "      <th>广电中心</th>\n",
       "      <th>大润发广场</th>\n",
       "      <th>鼓楼</th>\n",
       "      <th>东门口</th>\n",
       "      <th>price</th>\n",
       "    </tr>\n",
       "  </thead>\n",
       "  <tbody>\n",
       "  </tbody>\n",
       "</table>\n",
       "<p>0 rows × 25 columns</p>\n",
       "</div>"
      ],
      "text/plain": [
       "Empty DataFrame\n",
       "Columns: [title, number_of_rooms, number_of_halls, size, layer, high, mid, low, completed_year, 东津世纪城, 民发世界城, 凯地广场, 嘉佰惠广场, 武商沃尔玛, 悦活荟, 火车站, 万达广场, 人民广场, 新五中, 铁四院, 广电中心, 大润发广场, 鼓楼, 东门口, price]\n",
       "Index: []\n",
       "\n",
       "[0 rows x 25 columns]"
      ]
     },
     "execution_count": 123,
     "metadata": {},
     "output_type": "execute_result"
    }
   ],
   "source": [
    "col_names = ['title','number_of_rooms','number_of_halls','size','layer', 'high','mid','low',\n",
    "'completed_year']\n",
    "col_names = col_names+neighbor_name+['price']\n",
    "new_house_df = pd.DataFrame(columns = col_names)\n",
    "\n",
    "new_house_df"
   ]
  },
  {
   "cell_type": "code",
   "execution_count": 140,
   "metadata": {},
   "outputs": [],
   "source": [
    "for i in range(len(df)):\n",
    "    title = df.title[i]\n",
    "    d = re.findall(\"\\d+\",df.detail[i])\n",
    "    if(len(d)!=5):\n",
    "        room = int(d[0])\n",
    "        hall = 0\n",
    "        size = int(d[1])\n",
    "        layer = int(d[2])\n",
    "        completed = int(d[3])\n",
    "    else:\n",
    "        room = int(d[0])\n",
    "        hall = int(d[1])\n",
    "        size = int(d[2])\n",
    "        layer = int(d[3])\n",
    "        completed = int(d[4])\n",
    "    high = 0\n",
    "    mid = 0\n",
    "    low = 0\n",
    "    height = re.findall(\"\\w+\",df.detail[i])[2]\n",
    "    if(height == \"高层\"):\n",
    "        high = 1\n",
    "    elif(height == \"中层\"):\n",
    "        mid = 1\n",
    "    else:\n",
    "        low = 1\n",
    "    neighbor = re.findall(\"-(\\w+)\",df.location[i])[0]\n",
    "    dj = 0\n",
    "    mf = 0\n",
    "    kd = 0\n",
    "    jbh = 0\n",
    "    ws = 0\n",
    "    yh = 0\n",
    "    hcz = 0\n",
    "    wd = 0\n",
    "    rmgc = 0\n",
    "    xwz = 0\n",
    "    tsy = 0\n",
    "    gd = 0\n",
    "    drf =0\n",
    "    gl = 0\n",
    "    dmk =0\n",
    "    if(neighbor == \"东津世纪城\"):\n",
    "        dj = 1\n",
    "    elif(neighbor == \"民发世界城\"):\n",
    "        mf = 1\n",
    "    elif(neighbor == \"凯地广场\"):\n",
    "        kd = 1\n",
    "    elif(neighbor == \"嘉佰惠广场\"):\n",
    "        jbh = 1\n",
    "    elif(neighbor == \"武商沃尔玛\"):\n",
    "        ws = 1\n",
    "    elif(neighbor == \"悦活荟\"):\n",
    "        yh = 1\n",
    "    elif(neighbor == \"火车站\"):\n",
    "        hcz = 1\n",
    "    elif(neighbor == \"万达广场\"):\n",
    "        wd = 1\n",
    "    elif(neighbor == \"人民广场\"):\n",
    "        rmgc = 1\n",
    "    elif(neighbor == \"新五中\"):\n",
    "        xwz = 1\n",
    "    elif(neighbor == \"铁四院\"):\n",
    "        tsy = 1\n",
    "    elif(neighbor == \"广电中心\"):\n",
    "        gd = 1\n",
    "    elif(neighbor == \"大润发广场\"):\n",
    "        drf = 1\n",
    "    elif(neighbor == \"鼓楼\"):\n",
    "        gl = 1\n",
    "    elif(neighbor == \"东门口\"):\n",
    "        dmk = 1 \n",
    "    else:\n",
    "        continue\n",
    "    p = re.findall(\"\\d+\",df.price[i])[0]\n",
    "    price = int(p)*10000\n",
    "    location = df.location[i]\n",
    "    new_house_df.loc[i] = [title,room,hall,size,layer,high,mid,low,completed,\n",
    "        dj,mf,kd,jbh,ws,yh,hcz,wd,rmgc,xwz,tsy,gd,drf,gl,dmk,price]\n",
    "    "
   ]
  },
  {
   "cell_type": "code",
   "execution_count": 141,
   "metadata": {},
   "outputs": [],
   "source": [
    "y1 = new_house_df[['price']]"
   ]
  },
  {
   "cell_type": "code",
   "execution_count": 142,
   "metadata": {},
   "outputs": [],
   "source": [
    "x_names = ['number_of_rooms','number_of_halls','size','layer', 'high','mid','low',\n",
    "'completed_year']\n",
    "x_names = x_names+neighbor_name\n",
    "X1 = new_house_df[x_names]\n",
    "X1 = normalization(X1)\n",
    "y1 = normalization(y1)"
   ]
  },
  {
   "cell_type": "code",
   "execution_count": 143,
   "metadata": {},
   "outputs": [],
   "source": [
    "from sklearn import datasets, linear_model\n",
    "from sklearn.model_selection import train_test_split\n",
    "from sklearn.metrics import confusion_matrix, classification_report, accuracy_score\n",
    "X_train1, X_test1, y_train1, y_test1 = train_test_split(X1, y1, random_state=10)"
   ]
  },
  {
   "cell_type": "code",
   "execution_count": 144,
   "metadata": {},
   "outputs": [
    {
     "data": {
      "text/plain": [
       "LinearRegression()"
      ]
     },
     "execution_count": 144,
     "metadata": {},
     "output_type": "execute_result"
    }
   ],
   "source": [
    "from sklearn.linear_model import LinearRegression\n",
    "linreg1 = LinearRegression()\n",
    "linreg1.fit(X_train1, y_train1)"
   ]
  },
  {
   "cell_type": "code",
   "execution_count": 162,
   "metadata": {
    "scrolled": true
   },
   "outputs": [
    {
     "name": "stdout",
     "output_type": "stream",
     "text": [
      "[-263401.42328493]\n",
      "[[-1.59903740e+01 -3.32800499e+01  1.29605586e+01  5.44738461e+00\n",
      "  -7.17716756e+04 -7.17113108e+04 -7.17062487e+04  1.74118340e+00\n",
      "  -6.32730677e+04 -6.30612421e+04 -6.28865505e+04 -6.36125907e+04\n",
      "  -6.28302585e+04 -6.32471820e+04 -6.29959605e+04 -6.27682295e+04\n",
      "  -6.28805346e+04 -6.31831148e+04 -6.31075775e+04 -6.28579271e+04\n",
      "  -6.33238003e+04 -6.27960561e+04 -6.27852625e+04]]\n"
     ]
    }
   ],
   "source": [
    "print (linreg1.intercept_)\n",
    "print (linreg1.coef_)"
   ]
  },
  {
   "cell_type": "code",
   "execution_count": 163,
   "metadata": {},
   "outputs": [],
   "source": [
    "predict_result1 = linreg1.predict(X_test1)\n"
   ]
  },
  {
   "cell_type": "code",
   "execution_count": 164,
   "metadata": {},
   "outputs": [
    {
     "name": "stdout",
     "output_type": "stream",
     "text": [
      "0.7308709261328192\n"
     ]
    }
   ],
   "source": [
    "acc1 = linreg1.score(X_test1,y_test1) \n",
    "print(acc1)"
   ]
  },
  {
   "cell_type": "code",
   "execution_count": 166,
   "metadata": {},
   "outputs": [
    {
     "data": {
      "image/png": "[encoded data removed]",
      "text/plain": [
       "<Figure size 864x432 with 1 Axes>"
      ]
     },
     "metadata": {
      "needs_background": "light"
     },
     "output_type": "display_data"
    }
   ],
   "source": [
    "y1 = y_test1.flatten()\n",
    "y_hat1 = predict_result1.flatten()\n",
    "fig, ax = plt.subplots(figsize=(12,6))\n",
    "ax.scatter(y1, y_hat1)\n",
    "ax.plot([y1.min(), y1.max()], [y1.min(), y1.max()], 'k--', lw=4)\n",
    "ax.set_xlabel('Measured')\n",
    "ax.set_ylabel('Predicted')\n",
    "plt.show()\n",
    "fig.savefig('newplot.png')"
   ]
  },
  {
   "cell_type": "code",
   "execution_count": null,
   "metadata": {},
   "outputs": [],
   "source": []
  }
 ],
 "metadata": {
  "kernelspec": {
   "display_name": "Python 3",
   "language": "python",
   "name": "python3"
  },
  "language_info": {
   "codemirror_mode": {
    "name": "ipython",
    "version": 3
   },
   "file_extension": ".py",
   "mimetype": "text/x-python",
   "name": "python",
   "nbconvert_exporter": "python",
   "pygments_lexer": "ipython3",
   "version": "3.9.0"
  }
 },
 "nbformat": 4,
 "nbformat_minor": 4
}
